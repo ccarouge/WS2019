{
 "cells": [
  {
   "cell_type": "markdown",
   "metadata": {},
   "source": [
    "How to concatenate several years of ocean outputs from Mk3L.\n",
    "\n",
    "There is 1 netcdf file per year. Each file contains all variables. The outputs are monthly so each file contains 12 timesteps."
   ]
  },
  {
   "cell_type": "code",
   "execution_count": 18,
   "metadata": {},
   "outputs": [],
   "source": [
    "import glob\n",
    "import xarray as xr\n",
    "import pandas as pd\n",
    "\n",
    "# User inputs:\n",
    "path='/Users/ccc/mount/raij_home/gdata5/WS2019/ccc561/ctl01/'\n",
    "file_template = 'com.ctl01.*.nc'\n",
    "\n",
    "def time_coord(ds):\n",
    "    '''Create a proper time coordinate for the ocean output from Mk3L.\n",
    "    ds: xarray dataset from reading Mk3L ocean output(s)'''\n",
    "\n",
    "    year = list(range(ds.sizes['month']//12))\n",
    "    year = [str(i+1800)+'{:0>2}'.format(m+1) for i in year for m in range(12)]\n",
    "\n",
    "    time=pd.to_datetime(year, format=\"%Y%m\")\n",
    "\n",
    "    return time\n",
    "\n",
    "def concat_ocean(path, file_template):\n",
    "    file_list = sorted(glob.glob(path+file_template))\n",
    "    file_list\n",
    "\n",
    "    ds = xr.open_mfdataset(file_list, concat_dim='month')\n",
    "    # New time coordinate to include the year. \n",
    "    # Arbitrary add 1800 to make it easier to deal with the date! (Calendar issues)\n",
    "    time=time_coord(ds)\n",
    "    \n",
    "    # Replace the month coordinate with these new values and rename to time\n",
    "    ds = ds.assign_coords(month=time).rename(month='time')\n",
    "    return ds\n",
    "\n",
    "test = concat_ocean(path, file_template)\n",
    "for var in ds.variables:\n",
    "    ds[var].to_netcdf(f'com.ctl01.{var}_all_yr.nc')"
   ]
  },
  {
   "cell_type": "code",
   "execution_count": 21,
   "metadata": {},
   "outputs": [],
   "source": []
  },
  {
   "cell_type": "code",
   "execution_count": null,
   "metadata": {},
   "outputs": [],
   "source": []
  }
 ],
 "metadata": {
  "kernelspec": {
   "display_name": "Python 3",
   "language": "python",
   "name": "python3"
  },
  "language_info": {
   "codemirror_mode": {
    "name": "ipython",
    "version": 3
   },
   "file_extension": ".py",
   "mimetype": "text/x-python",
   "name": "python",
   "nbconvert_exporter": "python",
   "pygments_lexer": "ipython3",
   "version": "3.7.2"
  }
 },
 "nbformat": 4,
 "nbformat_minor": 2
}
