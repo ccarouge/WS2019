{
 "cells": [
  {
   "cell_type": "code",
   "execution_count": 3,
   "metadata": {},
   "outputs": [
    {
     "data": {
      "text/plain": [
       "['/Users/ccc/mount/raij_home/gdata5/WS2019/ccc561/ctl01/st01_ctl01.nc',\n",
       " '/Users/ccc/mount/raij_home/gdata5/WS2019/ccc561/ctl01/st02_ctl01.nc',\n",
       " '/Users/ccc/mount/raij_home/gdata5/WS2019/ccc561/ctl01/st03_ctl01.nc',\n",
       " '/Users/ccc/mount/raij_home/gdata5/WS2019/ccc561/ctl01/st04_ctl01.nc',\n",
       " '/Users/ccc/mount/raij_home/gdata5/WS2019/ccc561/ctl01/st05_ctl01.nc',\n",
       " '/Users/ccc/mount/raij_home/gdata5/WS2019/ccc561/ctl01/st06_ctl01.nc',\n",
       " '/Users/ccc/mount/raij_home/gdata5/WS2019/ccc561/ctl01/st07_ctl01.nc',\n",
       " '/Users/ccc/mount/raij_home/gdata5/WS2019/ccc561/ctl01/st08_ctl01.nc',\n",
       " '/Users/ccc/mount/raij_home/gdata5/WS2019/ccc561/ctl01/st09_ctl01.nc',\n",
       " '/Users/ccc/mount/raij_home/gdata5/WS2019/ccc561/ctl01/st10_ctl01.nc',\n",
       " '/Users/ccc/mount/raij_home/gdata5/WS2019/ccc561/ctl01/st11_ctl01.nc',\n",
       " '/Users/ccc/mount/raij_home/gdata5/WS2019/ccc561/ctl01/st12_ctl01.nc',\n",
       " '/Users/ccc/mount/raij_home/gdata5/WS2019/ccc561/ctl01/st13_ctl01.nc',\n",
       " '/Users/ccc/mount/raij_home/gdata5/WS2019/ccc561/ctl01/st14_ctl01.nc',\n",
       " '/Users/ccc/mount/raij_home/gdata5/WS2019/ccc561/ctl01/st15_ctl01.nc',\n",
       " '/Users/ccc/mount/raij_home/gdata5/WS2019/ccc561/ctl01/st16_ctl01.nc',\n",
       " '/Users/ccc/mount/raij_home/gdata5/WS2019/ccc561/ctl01/st17_ctl01.nc',\n",
       " '/Users/ccc/mount/raij_home/gdata5/WS2019/ccc561/ctl01/st18_ctl01.nc']"
      ]
     },
     "execution_count": 3,
     "metadata": {},
     "output_type": "execute_result"
    }
   ],
   "source": [
    "import glob\n",
    "import xarray as xr\n",
    "import pandas as pd\n",
    "\n",
    "# User inputs\n",
    "path = '/Users/ccc/mount/raij_home/gdata5/WS2019/ccc561/ctl01/'\n",
    "var='t'\n",
    "file_template = f's{var}[0-9][0-9]_ctl01.nc'\n",
    "\n",
    "files=sorted(glob.glob(path+file_template))\n",
    "files"
   ]
  },
  {
   "cell_type": "code",
   "execution_count": 18,
   "metadata": {},
   "outputs": [
    {
     "data": {
      "text/plain": [
       "<xarray.DataArray 't01' (lev: 2, year: 50, month: 12, latitude: 56, longitude: 64)>\n",
       "dask.array<shape=(2, 50, 12, 56, 64), dtype=float32, chunksize=(1, 50, 12, 56, 64)>\n",
       "Coordinates:\n",
       "  * latitude   (latitude) float32 -87.56133 -84.402245 ... 84.402245 87.56133\n",
       "  * longitude  (longitude) float32 0.0 5.625 11.25 ... 343.125 348.75 354.375\n",
       "  * month      (month) int32 1 2 3 4 5 6 7 8 9 10 11 12\n",
       "  * year       (year) int32 1 2 3 4 5 6 7 8 9 10 ... 42 43 44 45 46 47 48 49 50\n",
       "  * lev        (lev) int64 1 2\n",
       "Attributes:\n",
       "    units:    K"
      ]
     },
     "execution_count": 18,
     "metadata": {},
     "output_type": "execute_result"
    }
   ],
   "source": [
    "ds= xr.open_mfdataset(files)\n",
    "t01=ds['t01']\n",
    "t01.coords['lev']=1\n",
    "t02=ds['t02']\n",
    "t02.coords['lev']=2\n",
    "t=xr.concat([t01,t02],dim='lev')\n",
    "#ds['t01']['lev']\n",
    "t"
   ]
  },
  {
   "cell_type": "code",
   "execution_count": 11,
   "metadata": {},
   "outputs": [
    {
     "data": {
      "text/plain": [
       "<xarray.DataArray 'lev' (lev: 1)>\n",
       "array([0])\n",
       "Dimensions without coordinates: lev"
      ]
     },
     "execution_count": 11,
     "metadata": {},
     "output_type": "execute_result"
    }
   ],
   "source": [
    "ds['t02']['lev']"
   ]
  },
  {
   "cell_type": "code",
   "execution_count": null,
   "metadata": {},
   "outputs": [],
   "source": []
  }
 ],
 "metadata": {
  "kernelspec": {
   "display_name": "Python 3",
   "language": "python",
   "name": "python3"
  },
  "language_info": {
   "codemirror_mode": {
    "name": "ipython",
    "version": 3
   },
   "file_extension": ".py",
   "mimetype": "text/x-python",
   "name": "python",
   "nbconvert_exporter": "python",
   "pygments_lexer": "ipython3",
   "version": "3.7.2"
  }
 },
 "nbformat": 4,
 "nbformat_minor": 2
}
