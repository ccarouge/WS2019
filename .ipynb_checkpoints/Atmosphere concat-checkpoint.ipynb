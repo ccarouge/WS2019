{
 "cells": [
  {
   "cell_type": "code",
   "execution_count": 1,
   "metadata": {},
   "outputs": [
    {
     "data": {
      "text/plain": [
       "<xarray.DataArray (lev: 18)>\n",
       "array([1000,  925,  850,  700,  600,  500,  400,  300,  250,  200,  150,  100,\n",
       "         70,   50,   30,   20,   10,    5])\n",
       "Dimensions without coordinates: lev\n",
       "Attributes:\n",
       "    units:    mb"
      ]
     },
     "execution_count": 1,
     "metadata": {},
     "output_type": "execute_result"
    }
   ],
   "source": [
    "import glob\n",
    "import numpy as np\n",
    "import xarray as xr\n",
    "import pandas as pd\n",
    "\n",
    "# User inputs\n",
    "path = '/Users/Claire/mount/raij_home/gdata5/WS2019/ccc561/ctl01/'\n",
    "var='t'\n",
    "file_template = f's{var}[0-9][0-9]_ctl01.nc'\n",
    "\n",
    "files=sorted(glob.glob(path+file_template))\n",
    "files\n",
    "\n",
    "pressure = xr.DataArray([1000,925,850,700,600,500,400,300,250,200,150,100,70,50,30,20,10,5],dims=('lev',),attrs={'units':'mb'})\n",
    "height = xr.DataArray([165,300,575,990,1535,2215,3025,3970,5070,6335,7780,9440,11360,13650,16550,20600,27360,36355], dims=('lev',),attrs={'units':'m'})\n",
    "pressure"
   ]
  },
  {
   "cell_type": "code",
   "execution_count": 2,
   "metadata": {},
   "outputs": [
    {
     "data": {
      "text/plain": [
       "<xarray.Dataset>\n",
       "Dimensions:    (latitude: 56, longitude: 64, month: 12, year: 50)\n",
       "Coordinates:\n",
       "  * latitude   (latitude) float32 -87.56133 -84.402245 ... 84.402245 87.56133\n",
       "  * longitude  (longitude) float32 0.0 5.625 11.25 ... 343.125 348.75 354.375\n",
       "  * month      (month) int32 1 2 3 4 5 6 7 8 9 10 11 12\n",
       "  * year       (year) int32 1 2 3 4 5 6 7 8 9 10 ... 42 43 44 45 46 47 48 49 50\n",
       "Data variables:\n",
       "    t01        (year, month, latitude, longitude) float32 dask.array<shape=(50, 12, 56, 64), chunksize=(50, 12, 56, 64)>\n",
       "    t02        (year, month, latitude, longitude) float32 dask.array<shape=(50, 12, 56, 64), chunksize=(50, 12, 56, 64)>\n",
       "    t03        (year, month, latitude, longitude) float32 dask.array<shape=(50, 12, 56, 64), chunksize=(50, 12, 56, 64)>\n",
       "    t04        (year, month, latitude, longitude) float32 dask.array<shape=(50, 12, 56, 64), chunksize=(50, 12, 56, 64)>\n",
       "    t05        (year, month, latitude, longitude) float32 dask.array<shape=(50, 12, 56, 64), chunksize=(50, 12, 56, 64)>\n",
       "    t06        (year, month, latitude, longitude) float32 dask.array<shape=(50, 12, 56, 64), chunksize=(50, 12, 56, 64)>\n",
       "    t07        (year, month, latitude, longitude) float32 dask.array<shape=(50, 12, 56, 64), chunksize=(50, 12, 56, 64)>\n",
       "    t08        (year, month, latitude, longitude) float32 dask.array<shape=(50, 12, 56, 64), chunksize=(50, 12, 56, 64)>\n",
       "    t09        (year, month, latitude, longitude) float32 dask.array<shape=(50, 12, 56, 64), chunksize=(50, 12, 56, 64)>\n",
       "    t10        (year, month, latitude, longitude) float32 dask.array<shape=(50, 12, 56, 64), chunksize=(50, 12, 56, 64)>\n",
       "    t11        (year, month, latitude, longitude) float32 dask.array<shape=(50, 12, 56, 64), chunksize=(50, 12, 56, 64)>\n",
       "    t12        (year, month, latitude, longitude) float32 dask.array<shape=(50, 12, 56, 64), chunksize=(50, 12, 56, 64)>\n",
       "    t13        (year, month, latitude, longitude) float32 dask.array<shape=(50, 12, 56, 64), chunksize=(50, 12, 56, 64)>\n",
       "    t14        (year, month, latitude, longitude) float32 dask.array<shape=(50, 12, 56, 64), chunksize=(50, 12, 56, 64)>\n",
       "    t15        (year, month, latitude, longitude) float32 dask.array<shape=(50, 12, 56, 64), chunksize=(50, 12, 56, 64)>\n",
       "    t16        (year, month, latitude, longitude) float32 dask.array<shape=(50, 12, 56, 64), chunksize=(50, 12, 56, 64)>\n",
       "    t17        (year, month, latitude, longitude) float32 dask.array<shape=(50, 12, 56, 64), chunksize=(50, 12, 56, 64)>\n",
       "    t18        (year, month, latitude, longitude) float32 dask.array<shape=(50, 12, 56, 64), chunksize=(50, 12, 56, 64)>\n",
       "Attributes:\n",
       "    version:  Mk3L-1.2\n",
       "    runtype:  ctl01\n",
       "    history:  Created by ccc561 on r139, 2019/06/18 09:55:14 +1000"
      ]
     },
     "execution_count": 2,
     "metadata": {},
     "output_type": "execute_result"
    }
   ],
   "source": [
    "ds= xr.open_mfdataset(files,)\n",
    "ds"
   ]
  },
  {
   "cell_type": "code",
   "execution_count": null,
   "metadata": {},
   "outputs": [],
   "source": []
  },
  {
   "cell_type": "code",
   "execution_count": null,
   "metadata": {},
   "outputs": [],
   "source": [
    "for dd in ds.data_vars:\n",
    "    print(dd)"
   ]
  },
  {
   "cell_type": "code",
   "execution_count": 3,
   "metadata": {},
   "outputs": [
    {
     "data": {
      "text/plain": [
       "<xarray.DataArray 't01' (lev: 18, year: 50, month: 12, latitude: 56, longitude: 64)>\n",
       "dask.array<shape=(18, 50, 12, 56, 64), dtype=float32, chunksize=(1, 50, 12, 56, 64)>\n",
       "Coordinates:\n",
       "  * latitude   (latitude) float32 -87.56133 -84.402245 ... 84.402245 87.56133\n",
       "  * longitude  (longitude) float32 0.0 5.625 11.25 ... 343.125 348.75 354.375\n",
       "  * month      (month) int32 1 2 3 4 5 6 7 8 9 10 11 12\n",
       "  * year       (year) int32 1 2 3 4 5 6 7 8 9 10 ... 42 43 44 45 46 47 48 49 50\n",
       "  * lev        (lev) int64 1000 925 850 700 600 500 400 ... 100 70 50 30 20 10 5\n",
       "Attributes:\n",
       "    units:    K"
      ]
     },
     "execution_count": 3,
     "metadata": {},
     "output_type": "execute_result"
    }
   ],
   "source": [
    "t=xr.concat([ds[dd] for dd in ds.data_vars],dim='lev')\n",
    "t.coords['lev']=pressure\n",
    "t"
   ]
  },
  {
   "cell_type": "code",
   "execution_count": 18,
   "metadata": {},
   "outputs": [
    {
     "data": {
      "text/plain": [
       "array(nan)"
      ]
     },
     "execution_count": 18,
     "metadata": {},
     "output_type": "execute_result"
    }
   ],
   "source": [
    "# Annual mean\n",
    "days=xr.DataArray([31,28,31,30,31,30,31,31,30,31,30,31],dims=('month',),coords={'month':t['month']})/365\n",
    "clim = t *days\n",
    "clim[0,0,0,0,0].values"
   ]
  },
  {
   "cell_type": "code",
   "execution_count": 22,
   "metadata": {},
   "outputs": [
    {
     "data": {
      "text/plain": [
       "array(nan)"
      ]
     },
     "execution_count": 22,
     "metadata": {},
     "output_type": "execute_result"
    }
   ],
   "source": []
  },
  {
   "cell_type": "code",
   "execution_count": 21,
   "metadata": {},
   "outputs": [
    {
     "data": {
      "text/plain": [
       "array(0.)"
      ]
     },
     "execution_count": 21,
     "metadata": {},
     "output_type": "execute_result"
    }
   ],
   "source": [
    "clim1 = clim.sum(dim='month')\n",
    "clim1[0,0,0,0].values"
   ]
  },
  {
   "cell_type": "code",
   "execution_count": 24,
   "metadata": {},
   "outputs": [
    {
     "data": {
      "text/plain": [
       "array([nan, nan, nan, nan, nan, nan, nan, nan, nan, nan, nan, nan])"
      ]
     },
     "execution_count": 24,
     "metadata": {},
     "output_type": "execute_result"
    }
   ],
   "source": [
    "clim[0,0,:,0,0].values"
   ]
  },
  {
   "cell_type": "code",
   "execution_count": 25,
   "metadata": {},
   "outputs": [
    {
     "data": {
      "text/plain": [
       "<xarray.DataArray (month: 3)>\n",
       "array([nan, nan, nan])\n",
       "Coordinates:\n",
       "  * month    (month) int64 1 2 3"
      ]
     },
     "execution_count": 25,
     "metadata": {},
     "output_type": "execute_result"
    }
   ],
   "source": []
  },
  {
   "cell_type": "code",
   "execution_count": 27,
   "metadata": {},
   "outputs": [
    {
     "name": "stderr",
     "output_type": "stream",
     "text": [
      "/Users/Claire/miniconda3/envs/analight/lib/python3.6/site-packages/xarray/core/nanops.py:161: RuntimeWarning: Mean of empty slice\n",
      "  return np.nanmean(a, axis=axis, dtype=dtype)\n"
     ]
    },
    {
     "data": {
      "text/plain": [
       "<xarray.DataArray ()>\n",
       "array(nan)"
      ]
     },
     "execution_count": 27,
     "metadata": {},
     "output_type": "execute_result"
    }
   ],
   "source": []
  },
  {
   "cell_type": "code",
   "execution_count": null,
   "metadata": {},
   "outputs": [],
   "source": []
  }
 ],
 "metadata": {
  "kernelspec": {
   "display_name": "Python 3",
   "language": "python",
   "name": "python3"
  },
  "language_info": {
   "codemirror_mode": {
    "name": "ipython",
    "version": 3
   },
   "file_extension": ".py",
   "mimetype": "text/x-python",
   "name": "python",
   "nbconvert_exporter": "python",
   "pygments_lexer": "ipython3",
   "version": "3.6.6"
  }
 },
 "nbformat": 4,
 "nbformat_minor": 2
}
