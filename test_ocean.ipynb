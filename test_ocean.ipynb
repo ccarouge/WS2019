{
 "cells": [
  {
   "cell_type": "code",
   "execution_count": 60,
   "metadata": {},
   "outputs": [],
   "source": [
    "import glob\n",
    "import os.path\n",
    "import xarray as xr\n",
    "import pandas as pd\n",
    "import argparse\n",
    "import cftime\n",
    "\n",
    "\n",
    "#def time_coord(ds):\n",
    "#    '''Create a proper time coordinate for the ocean output from Mk3L.\n",
    "#    ds: xarray dataset from reading Mk3L ocean output(s)'''\n",
    "\n",
    "#    year = list(range(ds.sizes['month']//12))\n",
    "#    year = [str(i+1800)+'{:0>2}'.format(m+1) for i in year for m in range(12)]\n",
    "#    time = \n",
    "#    time=pd.to_datetime(year, format=\"%Y%m\")\n",
    "\n",
    "#    return time\n",
    "\n",
    "def concat_ocean(path, file_template):\n",
    "    fname = os.path.join(path, file_template)\n",
    "    file_list = sorted(glob.glob(fname))\n",
    "\n",
    "    ds = xr.open_mfdataset(file_list, concat_dim='month',decode_cf=False)\n",
    "    # New time coordinate to include the year. \n",
    "    # Arbitrary add 1800 to make it easier to deal with the date! (Calendar issues)\n",
    "    ds.load()\n",
    "    time=xr.cftime_range(start='0001', periods=600, freq='MS', calendar='noleap')\n",
    "    \n",
    "    # Replace the month coordinate with these new values and rename to time\n",
    "    ds = ds.where(ds > -1.e34)\n",
    "    ds = ds.assign_coords(month=time).rename(month='time')\n",
    "    return ds\n",
    "\n"
   ]
  },
  {
   "cell_type": "code",
   "execution_count": null,
   "metadata": {},
   "outputs": [],
   "source": [
    "#if __name__ == '__main__':\n",
    "#    # User inputs:\n",
    "#    parser = argparse.ArgumentParser()\n",
    "#    parser.add_argument('-p',default='./',help='Path with the Mk3L ocean outputs', dest='path')\n",
    "#    parser.add_argument('-r',default='ctl01', help='Name of the experiment', dest='run')\n",
    "#\n",
    "#    args = parser.parse_args()\n",
    "file_template = 'com.'+'ctl01'+'.[0-9]*.nc'\n",
    "print(f\"Reading all files: {file_template}\")\n",
    "\n",
    "test = concat_ocean('/Users/Claire/mount/raij_home/gdata5/WS2019/ccc561/ctl01/', file_template)\n",
    "print(\"Data loaded\")\n",
    "clim = test.groupby('time.year').mean(dim='time')  # Annual mean\n",
    "dd = {var: var+\"_clim\" for var in clim.data_vars}  # Rename clim variables\n",
    "clim = clim.rename(dd)\n",
    "print(\"Mean calculated\")\n",
    "for var in test.data_vars:\n",
    "    fname = os.path.join('/Users/Claire/mount/raij_home/gdata5/WS2019/ccc561/ctl01/',f'com.ctl01.{var}_all_yr.nc')\n",
    "    print(f\"Writing {var}\")\n",
    "    ds = xr.merge([test[var], clim[var+\"_clim\"]])\n",
    "    ds.to_netcdf(fname)\n"
   ]
  },
  {
   "cell_type": "code",
   "execution_count": 57,
   "metadata": {},
   "outputs": [
    {
     "data": {
      "text/plain": [
       "array([[-0.07291944, -0.0735697 , -0.08073891, -0.13023704, -0.15982366,\n",
       "        -0.16995318, -0.16666539, -0.15906148, -0.15088224, -0.14623605],\n",
       "       [-0.0735697 , -0.0735697 , -0.09759142, -0.13876007, -0.15982366,\n",
       "        -0.16995318, -0.16666538, -0.15906148, -0.15088221, -0.14623605],\n",
       "       [-0.07356971, -0.07674401, -0.11749247, -0.13876007, -0.15982366,\n",
       "        -0.1699532 , -0.16666539, -0.15906149, -0.15088223, -0.14623608],\n",
       "       [-0.0735697 , -0.09353814, -0.12309051, -0.13876007, -0.15982366,\n",
       "        -0.1699532 , -0.16666539, -0.15906148, -0.15088223, -0.14623606],\n",
       "       [-0.07899316, -0.10980853, -0.12309051, -0.13876007, -0.15982366,\n",
       "        -0.16995318, -0.16666538, -0.15906148, -0.15088221, -0.14623605],\n",
       "       [-0.09390692, -0.11086471, -0.12309051, -0.13876007, -0.15982366,\n",
       "        -0.16995318, -0.16666539, -0.15906148, -0.15088223, -0.14623606],\n",
       "       [-0.09948184, -0.11086471, -0.12309051, -0.13876007, -0.15982366,\n",
       "        -0.1699532 , -0.16666538, -0.15906148, -0.15088223, -0.14623606],\n",
       "       [-0.10027158, -0.11086471, -0.12309052, -0.13876007, -0.15982367,\n",
       "        -0.1699532 , -0.16666539, -0.15906148, -0.15088223, -0.14623606],\n",
       "       [-0.09864721, -0.10864511, -0.12094406, -0.13668676, -0.15784568,\n",
       "        -0.16807054, -0.1649513 , -0.15751596, -0.14959548, -0.14520809],\n",
       "       [-0.09732544, -0.10683899, -0.11919744, -0.13499968, -0.15623614,\n",
       "        -0.16653858, -0.16355652, -0.15625836, -0.14854844, -0.14437161]],\n",
       "      dtype=float32)"
      ]
     },
     "execution_count": 57,
     "metadata": {},
     "output_type": "execute_result"
    }
   ],
   "source": [
    "test['smfzon'][0,0:10,0:10].values"
   ]
  },
  {
   "cell_type": "code",
   "execution_count": 39,
   "metadata": {},
   "outputs": [],
   "source": []
  },
  {
   "cell_type": "code",
   "execution_count": 41,
   "metadata": {},
   "outputs": [
    {
     "data": {
      "text/plain": [
       "{'itt': 'itt_clim',\n",
       " 'dtts': 'dtts_clim',\n",
       " 'relyr': 'relyr_clim',\n",
       " 'kmt': 'kmt_clim',\n",
       " 'kmu': 'kmu_clim',\n",
       " 'smfzon': 'smfzon_clim',\n",
       " 'smfmer': 'smfmer_clim',\n",
       " 'stfht': 'stfht_clim',\n",
       " 'stfsal': 'stfsal_clim',\n",
       " 'temp': 'temp_clim',\n",
       " 'sal': 'sal_clim',\n",
       " 'rho': 'rho_clim',\n",
       " 'u': 'u_clim',\n",
       " 'v': 'v_clim',\n",
       " 'w': 'w_clim',\n",
       " 'uedd': 'uedd_clim',\n",
       " 'vedd': 'vedd_clim',\n",
       " 'wedd': 'wedd_clim',\n",
       " 'res': 'res_clim',\n",
       " 'cdepthm': 'cdepthm_clim',\n",
       " 'mola': 'mola_clim',\n",
       " 'molp': 'molp_clim',\n",
       " 'moli': 'moli_clim',\n",
       " 'molg': 'molg_clim',\n",
       " 'moea': 'moea_clim',\n",
       " 'moep': 'moep_clim',\n",
       " 'moei': 'moei_clim',\n",
       " 'moeg': 'moeg_clim',\n",
       " 'mota': 'mota_clim',\n",
       " 'motp': 'motp_clim',\n",
       " 'moti': 'moti_clim',\n",
       " 'motg': 'motg_clim'}"
      ]
     },
     "execution_count": 41,
     "metadata": {},
     "output_type": "execute_result"
    }
   ],
   "source": []
  },
  {
   "cell_type": "code",
   "execution_count": 43,
   "metadata": {},
   "outputs": [
    {
     "data": {
      "text/plain": [
       "<xarray.Dataset>\n",
       "Dimensions:       (latts: 112, latuv: 112, lonts: 128, lonuv: 128, year: 50, zts: 21, zuv: 21)\n",
       "Coordinates:\n",
       "  * lonts         (lonts) float32 -1.40625 1.40625 ... 352.96875 355.78125\n",
       "  * lonuv         (lonuv) float32 0.0 2.8125 5.625 ... 351.5625 354.375 357.1875\n",
       "  * latts         (latts) float32 -88.34722 -86.775444 ... 86.775444 88.34722\n",
       "  * latuv         (latuv) float32 -87.56133 -85.98956 ... 87.56133 89.13311\n",
       "  * zts           (zts) float32 12.5 37.5 65.0 98.5 ... 3475.0 3925.0 4375.0\n",
       "  * zuv           (zuv) float32 0.0 25.0 50.0 80.0 ... 3250.0 3700.0 4150.0\n",
       "  * year          (year) int64 1 2 3 4 5 6 7 8 9 ... 42 43 44 45 46 47 48 49 50\n",
       "Data variables:\n",
       "    itt_clim      (year) float64 dask.array<shape=(50,), chunksize=(1,)>\n",
       "    dtts_clim     (year) timedelta64[ns] 01:00:00 01:00:00 ... 01:00:00 01:00:00\n",
       "    relyr_clim    (year) float32 dask.array<shape=(50,), chunksize=(1,)>\n",
       "    kmt_clim      (year, latts, lonts) float64 dask.array<shape=(50, 112, 128), chunksize=(1, 112, 128)>\n",
       "    kmu_clim      (year, latuv, lonuv) float64 dask.array<shape=(50, 112, 128), chunksize=(1, 112, 128)>\n",
       "    smfzon_clim   (year, latuv, lonuv) float32 dask.array<shape=(50, 112, 128), chunksize=(1, 112, 128)>\n",
       "    smfmer_clim   (year, latuv, lonuv) float32 dask.array<shape=(50, 112, 128), chunksize=(1, 112, 128)>\n",
       "    stfht_clim    (year, latts, lonts) float32 dask.array<shape=(50, 112, 128), chunksize=(1, 112, 128)>\n",
       "    stfsal_clim   (year, latts, lonts) float32 dask.array<shape=(50, 112, 128), chunksize=(1, 112, 128)>\n",
       "    temp_clim     (year, zts, latts, lonts) float32 dask.array<shape=(50, 21, 112, 128), chunksize=(1, 21, 112, 128)>\n",
       "    sal_clim      (year, zts, latts, lonts) float32 dask.array<shape=(50, 21, 112, 128), chunksize=(1, 21, 112, 128)>\n",
       "    rho_clim      (year, zts, latts, lonts) float32 dask.array<shape=(50, 21, 112, 128), chunksize=(1, 21, 112, 128)>\n",
       "    u_clim        (year, zts, latuv, lonuv) float32 dask.array<shape=(50, 21, 112, 128), chunksize=(1, 21, 112, 128)>\n",
       "    v_clim        (year, zts, latuv, lonuv) float32 dask.array<shape=(50, 21, 112, 128), chunksize=(1, 21, 112, 128)>\n",
       "    w_clim        (year, zuv, latts, lonts) float32 dask.array<shape=(50, 21, 112, 128), chunksize=(1, 21, 112, 128)>\n",
       "    uedd_clim     (year, zts, latuv, lonuv) float32 dask.array<shape=(50, 21, 112, 128), chunksize=(1, 21, 112, 128)>\n",
       "    vedd_clim     (year, zts, latuv, lonuv) float32 dask.array<shape=(50, 21, 112, 128), chunksize=(1, 21, 112, 128)>\n",
       "    wedd_clim     (year, zuv, latts, lonts) float32 dask.array<shape=(50, 21, 112, 128), chunksize=(1, 21, 112, 128)>\n",
       "    res_clim      (year, latts, lonts) float32 dask.array<shape=(50, 112, 128), chunksize=(1, 112, 128)>\n",
       "    cdepthm_clim  (year, latts, lonts) float32 dask.array<shape=(50, 112, 128), chunksize=(1, 112, 128)>\n",
       "    mola_clim     (year, zts, latuv) float32 dask.array<shape=(50, 21, 112), chunksize=(1, 21, 112)>\n",
       "    molp_clim     (year, zts, latuv) float32 dask.array<shape=(50, 21, 112), chunksize=(1, 21, 112)>\n",
       "    moli_clim     (year, zts, latuv) float32 dask.array<shape=(50, 21, 112), chunksize=(1, 21, 112)>\n",
       "    molg_clim     (year, zts, latuv) float32 dask.array<shape=(50, 21, 112), chunksize=(1, 21, 112)>\n",
       "    moea_clim     (year, zts, latuv) float32 dask.array<shape=(50, 21, 112), chunksize=(1, 21, 112)>\n",
       "    moep_clim     (year, zts, latuv) float32 dask.array<shape=(50, 21, 112), chunksize=(1, 21, 112)>\n",
       "    moei_clim     (year, zts, latuv) float32 dask.array<shape=(50, 21, 112), chunksize=(1, 21, 112)>\n",
       "    moeg_clim     (year, zts, latuv) float32 dask.array<shape=(50, 21, 112), chunksize=(1, 21, 112)>\n",
       "    mota_clim     (year, zts, latuv) float32 dask.array<shape=(50, 21, 112), chunksize=(1, 21, 112)>\n",
       "    motp_clim     (year, zts, latuv) float32 dask.array<shape=(50, 21, 112), chunksize=(1, 21, 112)>\n",
       "    moti_clim     (year, zts, latuv) float32 dask.array<shape=(50, 21, 112), chunksize=(1, 21, 112)>\n",
       "    motg_clim     (year, zts, latuv) float32 dask.array<shape=(50, 21, 112), chunksize=(1, 21, 112)>"
      ]
     },
     "execution_count": 43,
     "metadata": {},
     "output_type": "execute_result"
    }
   ],
   "source": []
  },
  {
   "cell_type": "code",
   "execution_count": null,
   "metadata": {},
   "outputs": [],
   "source": []
  }
 ],
 "metadata": {
  "kernelspec": {
   "display_name": "Python 3",
   "language": "python",
   "name": "python3"
  },
  "language_info": {
   "codemirror_mode": {
    "name": "ipython",
    "version": 3
   },
   "file_extension": ".py",
   "mimetype": "text/x-python",
   "name": "python",
   "nbconvert_exporter": "python",
   "pygments_lexer": "ipython3",
   "version": "3.6.6"
  }
 },
 "nbformat": 4,
 "nbformat_minor": 2
}
